{
 "cells": [
  {
   "cell_type": "code",
   "execution_count": 6,
   "id": "4de57fee",
   "metadata": {},
   "outputs": [],
   "source": [
    "import pandas as pd\n",
    "from keplergl import KeplerGl "
   ]
  },
  {
   "cell_type": "code",
   "execution_count": 7,
   "id": "2096714a",
   "metadata": {},
   "outputs": [
    {
     "data": {
      "text/html": [
       "<div>\n",
       "<style scoped>\n",
       "    .dataframe tbody tr th:only-of-type {\n",
       "        vertical-align: middle;\n",
       "    }\n",
       "\n",
       "    .dataframe tbody tr th {\n",
       "        vertical-align: top;\n",
       "    }\n",
       "\n",
       "    .dataframe thead th {\n",
       "        text-align: right;\n",
       "    }\n",
       "</style>\n",
       "<table border=\"1\" class=\"dataframe\">\n",
       "  <thead>\n",
       "    <tr style=\"text-align: right;\">\n",
       "      <th></th>\n",
       "      <th>Origin Time</th>\n",
       "      <th>Latitude</th>\n",
       "      <th>Longitude</th>\n",
       "      <th>Depth</th>\n",
       "      <th>Magnitude</th>\n",
       "      <th>Location</th>\n",
       "    </tr>\n",
       "  </thead>\n",
       "  <tbody>\n",
       "    <tr>\n",
       "      <th>0</th>\n",
       "      <td>2021-07-31 09:43:23 IST</td>\n",
       "      <td>29.06</td>\n",
       "      <td>77.42</td>\n",
       "      <td>5.0</td>\n",
       "      <td>2.5</td>\n",
       "      <td>53km NNE of New Delhi, India</td>\n",
       "    </tr>\n",
       "    <tr>\n",
       "      <th>1</th>\n",
       "      <td>2021-07-30 23:04:57 IST</td>\n",
       "      <td>19.93</td>\n",
       "      <td>72.92</td>\n",
       "      <td>5.0</td>\n",
       "      <td>2.4</td>\n",
       "      <td>91km W of Nashik, Maharashtra, India</td>\n",
       "    </tr>\n",
       "    <tr>\n",
       "      <th>2</th>\n",
       "      <td>2021-07-30 21:31:10 IST</td>\n",
       "      <td>31.50</td>\n",
       "      <td>74.37</td>\n",
       "      <td>33.0</td>\n",
       "      <td>3.4</td>\n",
       "      <td>49km WSW of Amritsar, Punjab, India</td>\n",
       "    </tr>\n",
       "    <tr>\n",
       "      <th>3</th>\n",
       "      <td>2021-07-30 13:56:31 IST</td>\n",
       "      <td>28.34</td>\n",
       "      <td>76.23</td>\n",
       "      <td>5.0</td>\n",
       "      <td>3.1</td>\n",
       "      <td>50km SW of Jhajjar, Haryana</td>\n",
       "    </tr>\n",
       "    <tr>\n",
       "      <th>4</th>\n",
       "      <td>2021-07-30 07:19:38 IST</td>\n",
       "      <td>27.09</td>\n",
       "      <td>89.97</td>\n",
       "      <td>10.0</td>\n",
       "      <td>2.1</td>\n",
       "      <td>53km SE of Thimphu, Bhutan</td>\n",
       "    </tr>\n",
       "  </tbody>\n",
       "</table>\n",
       "</div>"
      ],
      "text/plain": [
       "               Origin Time  Latitude  Longitude  Depth  Magnitude  \\\n",
       "0  2021-07-31 09:43:23 IST     29.06      77.42    5.0        2.5   \n",
       "1  2021-07-30 23:04:57 IST     19.93      72.92    5.0        2.4   \n",
       "2  2021-07-30 21:31:10 IST     31.50      74.37   33.0        3.4   \n",
       "3  2021-07-30 13:56:31 IST     28.34      76.23    5.0        3.1   \n",
       "4  2021-07-30 07:19:38 IST     27.09      89.97   10.0        2.1   \n",
       "\n",
       "                               Location  \n",
       "0          53km NNE of New Delhi, India  \n",
       "1  91km W of Nashik, Maharashtra, India  \n",
       "2   49km WSW of Amritsar, Punjab, India  \n",
       "3           50km SW of Jhajjar, Haryana  \n",
       "4            53km SE of Thimphu, Bhutan  "
      ]
     },
     "execution_count": 7,
     "metadata": {},
     "output_type": "execute_result"
    }
   ],
   "source": [
    "df = pd.read_csv('../Seismic project(SpaceLab)/Indian_earthquake_data.csv')\n",
    "df.head()"
   ]
  },
  {
   "cell_type": "code",
   "execution_count": 22,
   "id": "e3d4a7db",
   "metadata": {},
   "outputs": [
    {
     "data": {
      "text/html": [
       "<div>\n",
       "<style scoped>\n",
       "    .dataframe tbody tr th:only-of-type {\n",
       "        vertical-align: middle;\n",
       "    }\n",
       "\n",
       "    .dataframe tbody tr th {\n",
       "        vertical-align: top;\n",
       "    }\n",
       "\n",
       "    .dataframe thead th {\n",
       "        text-align: right;\n",
       "    }\n",
       "</style>\n",
       "<table border=\"1\" class=\"dataframe\">\n",
       "  <thead>\n",
       "    <tr style=\"text-align: right;\">\n",
       "      <th></th>\n",
       "      <th>Origin Time</th>\n",
       "      <th>Latitude</th>\n",
       "      <th>Longitude</th>\n",
       "      <th>Depth</th>\n",
       "      <th>Magnitude</th>\n",
       "      <th>Location</th>\n",
       "      <th>Place</th>\n",
       "    </tr>\n",
       "  </thead>\n",
       "  <tbody>\n",
       "    <tr>\n",
       "      <th>0</th>\n",
       "      <td>2021-07-31 09:43:23</td>\n",
       "      <td>29.06</td>\n",
       "      <td>77.42</td>\n",
       "      <td>5.0</td>\n",
       "      <td>2.5</td>\n",
       "      <td>53km NNE of New Delhi, India</td>\n",
       "      <td>India</td>\n",
       "    </tr>\n",
       "    <tr>\n",
       "      <th>1</th>\n",
       "      <td>2021-07-30 23:04:57</td>\n",
       "      <td>19.93</td>\n",
       "      <td>72.92</td>\n",
       "      <td>5.0</td>\n",
       "      <td>2.4</td>\n",
       "      <td>91km W of Nashik, Maharashtra, India</td>\n",
       "      <td>Maharashtra</td>\n",
       "    </tr>\n",
       "    <tr>\n",
       "      <th>2</th>\n",
       "      <td>2021-07-30 21:31:10</td>\n",
       "      <td>31.50</td>\n",
       "      <td>74.37</td>\n",
       "      <td>33.0</td>\n",
       "      <td>3.4</td>\n",
       "      <td>49km WSW of Amritsar, Punjab, India</td>\n",
       "      <td>Punjab</td>\n",
       "    </tr>\n",
       "    <tr>\n",
       "      <th>3</th>\n",
       "      <td>2021-07-30 13:56:31</td>\n",
       "      <td>28.34</td>\n",
       "      <td>76.23</td>\n",
       "      <td>5.0</td>\n",
       "      <td>3.1</td>\n",
       "      <td>50km SW of Jhajjar, Haryana</td>\n",
       "      <td>Haryana</td>\n",
       "    </tr>\n",
       "    <tr>\n",
       "      <th>4</th>\n",
       "      <td>2021-07-30 07:19:38</td>\n",
       "      <td>27.09</td>\n",
       "      <td>89.97</td>\n",
       "      <td>10.0</td>\n",
       "      <td>2.1</td>\n",
       "      <td>53km SE of Thimphu, Bhutan</td>\n",
       "      <td>Bhutan</td>\n",
       "    </tr>\n",
       "  </tbody>\n",
       "</table>\n",
       "</div>"
      ],
      "text/plain": [
       "           Origin Time  Latitude  Longitude  Depth  Magnitude  \\\n",
       "0  2021-07-31 09:43:23     29.06      77.42    5.0        2.5   \n",
       "1  2021-07-30 23:04:57     19.93      72.92    5.0        2.4   \n",
       "2  2021-07-30 21:31:10     31.50      74.37   33.0        3.4   \n",
       "3  2021-07-30 13:56:31     28.34      76.23    5.0        3.1   \n",
       "4  2021-07-30 07:19:38     27.09      89.97   10.0        2.1   \n",
       "\n",
       "                               Location         Place  \n",
       "0          53km NNE of New Delhi, India         India  \n",
       "1  91km W of Nashik, Maharashtra, India   Maharashtra  \n",
       "2   49km WSW of Amritsar, Punjab, India        Punjab  \n",
       "3           50km SW of Jhajjar, Haryana       Haryana  \n",
       "4            53km SE of Thimphu, Bhutan        Bhutan  "
      ]
     },
     "execution_count": 22,
     "metadata": {},
     "output_type": "execute_result"
    }
   ],
   "source": [
    "df['Origin Time'] = pd.to_datetime(df['Origin Time'])\n",
    "df['Place'] = df.apply(lambda x: x['Location'].split(',')[1], axis=1)\n",
    "df['Origin Time'] = df['Origin Time'].astype(str)\n",
    "df.head()"
   ]
  },
  {
   "cell_type": "code",
   "execution_count": 23,
   "id": "d272ce20",
   "metadata": {},
   "outputs": [
    {
     "name": "stdout",
     "output_type": "stream",
     "text": [
      "User Guide: https://docs.kepler.gl/docs/keplergl-jupyter\n"
     ]
    }
   ],
   "source": [
    "map_1 = KeplerGl(height=600)"
   ]
  },
  {
   "cell_type": "code",
   "execution_count": 24,
   "id": "d5cdb5c9",
   "metadata": {},
   "outputs": [],
   "source": [
    "map_1.add_data(data=df, name='Indian Earthquake Visualization')"
   ]
  },
  {
   "cell_type": "code",
   "execution_count": 25,
   "id": "2e010eff",
   "metadata": {},
   "outputs": [
    {
     "data": {
      "application/vnd.jupyter.widget-view+json": {
       "model_id": "4af97a4970674b09852a6a4e16c81359",
       "version_major": 2,
       "version_minor": 0
      },
      "text/plain": [
       "KeplerGl(data={'Indian Earthquake Visualization': {'index': [0, 1, 2, 3, 4, 5, 6, 7, 8, 9, 10, 11, 12, 13, 14,…"
      ]
     },
     "metadata": {},
     "output_type": "display_data"
    }
   ],
   "source": [
    "map_1"
   ]
  },
  {
   "cell_type": "code",
   "execution_count": null,
   "id": "d21d2e72",
   "metadata": {},
   "outputs": [],
   "source": []
  },
  {
   "cell_type": "code",
   "execution_count": 26,
   "id": "beb98bc2",
   "metadata": {},
   "outputs": [
    {
     "name": "stdout",
     "output_type": "stream",
     "text": [
      "Map saved to Indian Earthquake Visualization.html!\n"
     ]
    }
   ],
   "source": [
    "map_1.save_to_html(file_name='Indian Earthquake Visualization.html')"
   ]
  },
  {
   "cell_type": "code",
   "execution_count": null,
   "id": "a505885d",
   "metadata": {},
   "outputs": [],
   "source": []
  }
 ],
 "metadata": {
  "kernelspec": {
   "display_name": "Python 3 (ipykernel)",
   "language": "python",
   "name": "python3"
  },
  "language_info": {
   "codemirror_mode": {
    "name": "ipython",
    "version": 3
   },
   "file_extension": ".py",
   "mimetype": "text/x-python",
   "name": "python",
   "nbconvert_exporter": "python",
   "pygments_lexer": "ipython3",
   "version": "3.9.12"
  }
 },
 "nbformat": 4,
 "nbformat_minor": 5
}

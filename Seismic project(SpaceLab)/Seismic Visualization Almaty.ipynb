{
 "cells": [
  {
   "cell_type": "code",
   "execution_count": 1,
   "id": "72a1e3ac",
   "metadata": {},
   "outputs": [
    {
     "name": "stdout",
     "output_type": "stream",
     "text": [
      "Requirement already satisfied: PyGMT in c:\\users\\yevgeniy\\anaconda3\\lib\\site-packages (0.8.0)\n",
      "Requirement already satisfied: numpy>=1.20 in c:\\users\\yevgeniy\\anaconda3\\lib\\site-packages (from PyGMT) (1.21.5)\n",
      "Requirement already satisfied: pandas in c:\\users\\yevgeniy\\anaconda3\\lib\\site-packages (from PyGMT) (1.4.2)\n",
      "Requirement already satisfied: xarray in c:\\users\\yevgeniy\\anaconda3\\lib\\site-packages (from PyGMT) (0.20.1)\n",
      "Requirement already satisfied: packaging in c:\\users\\yevgeniy\\anaconda3\\lib\\site-packages (from PyGMT) (21.3)\n",
      "Requirement already satisfied: netCDF4 in c:\\users\\yevgeniy\\anaconda3\\lib\\site-packages (from PyGMT) (1.6.3)\n",
      "Requirement already satisfied: cftime in c:\\users\\yevgeniy\\anaconda3\\lib\\site-packages (from netCDF4->PyGMT) (1.6.2)\n",
      "Requirement already satisfied: pyparsing!=3.0.5,>=2.0.2 in c:\\users\\yevgeniy\\anaconda3\\lib\\site-packages (from packaging->PyGMT) (3.0.4)\n",
      "Requirement already satisfied: python-dateutil>=2.8.1 in c:\\users\\yevgeniy\\anaconda3\\lib\\site-packages (from pandas->PyGMT) (2.8.2)\n",
      "Requirement already satisfied: pytz>=2020.1 in c:\\users\\yevgeniy\\anaconda3\\lib\\site-packages (from pandas->PyGMT) (2021.3)\n",
      "Requirement already satisfied: six>=1.5 in c:\\users\\yevgeniy\\anaconda3\\lib\\site-packages (from python-dateutil>=2.8.1->pandas->PyGMT) (1.16.0)\n"
     ]
    }
   ],
   "source": [
    "!pip install PyGMT"
   ]
  },
  {
   "cell_type": "code",
   "execution_count": 2,
   "id": "746e3309",
   "metadata": {},
   "outputs": [],
   "source": [
    "from keplergl import KeplerGl\n",
    "import pandas as pd\n",
    "from datetime import datetime"
   ]
  },
  {
   "cell_type": "code",
   "execution_count": 3,
   "id": "772124c0",
   "metadata": {},
   "outputs": [],
   "source": [
    "raw_dataset = pd.read_csv('Almaty_seismic_events_2015_2020.csv')"
   ]
  },
  {
   "cell_type": "code",
   "execution_count": 4,
   "id": "7bf1f74a",
   "metadata": {},
   "outputs": [
    {
     "data": {
      "text/html": [
       "<div>\n",
       "<style scoped>\n",
       "    .dataframe tbody tr th:only-of-type {\n",
       "        vertical-align: middle;\n",
       "    }\n",
       "\n",
       "    .dataframe tbody tr th {\n",
       "        vertical-align: top;\n",
       "    }\n",
       "\n",
       "    .dataframe thead th {\n",
       "        text-align: right;\n",
       "    }\n",
       "</style>\n",
       "<table border=\"1\" class=\"dataframe\">\n",
       "  <thead>\n",
       "    <tr style=\"text-align: right;\">\n",
       "      <th></th>\n",
       "      <th>yr</th>\n",
       "      <th>Mon</th>\n",
       "      <th>Day</th>\n",
       "      <th>Hr</th>\n",
       "      <th>Min</th>\n",
       "      <th>Sec</th>\n",
       "      <th>Lat</th>\n",
       "      <th>Lon</th>\n",
       "      <th>Height</th>\n",
       "      <th>Energyclass</th>\n",
       "      <th>M</th>\n",
       "    </tr>\n",
       "  </thead>\n",
       "  <tbody>\n",
       "    <tr>\n",
       "      <th>0</th>\n",
       "      <td>2015</td>\n",
       "      <td>1</td>\n",
       "      <td>22</td>\n",
       "      <td>15</td>\n",
       "      <td>52</td>\n",
       "      <td>27.9</td>\n",
       "      <td>42.20</td>\n",
       "      <td>75.02</td>\n",
       "      <td>20</td>\n",
       "      <td>11.9</td>\n",
       "      <td>4.4</td>\n",
       "    </tr>\n",
       "    <tr>\n",
       "      <th>1</th>\n",
       "      <td>2015</td>\n",
       "      <td>3</td>\n",
       "      <td>15</td>\n",
       "      <td>14</td>\n",
       "      <td>1</td>\n",
       "      <td>0.1</td>\n",
       "      <td>42.95</td>\n",
       "      <td>76.93</td>\n",
       "      <td>20</td>\n",
       "      <td>11.8</td>\n",
       "      <td>3.6</td>\n",
       "    </tr>\n",
       "    <tr>\n",
       "      <th>2</th>\n",
       "      <td>2015</td>\n",
       "      <td>6</td>\n",
       "      <td>19</td>\n",
       "      <td>0</td>\n",
       "      <td>54</td>\n",
       "      <td>41.1</td>\n",
       "      <td>44.75</td>\n",
       "      <td>78.78</td>\n",
       "      <td>10</td>\n",
       "      <td>10.4</td>\n",
       "      <td>2.8</td>\n",
       "    </tr>\n",
       "    <tr>\n",
       "      <th>3</th>\n",
       "      <td>2015</td>\n",
       "      <td>7</td>\n",
       "      <td>7</td>\n",
       "      <td>7</td>\n",
       "      <td>13</td>\n",
       "      <td>3.0</td>\n",
       "      <td>43.28</td>\n",
       "      <td>77.72</td>\n",
       "      <td>10</td>\n",
       "      <td>9.6</td>\n",
       "      <td>3.4</td>\n",
       "    </tr>\n",
       "    <tr>\n",
       "      <th>4</th>\n",
       "      <td>2015</td>\n",
       "      <td>9</td>\n",
       "      <td>1</td>\n",
       "      <td>7</td>\n",
       "      <td>32</td>\n",
       "      <td>28.3</td>\n",
       "      <td>44.38</td>\n",
       "      <td>76.13</td>\n",
       "      <td>20</td>\n",
       "      <td>9.8</td>\n",
       "      <td>2.4</td>\n",
       "    </tr>\n",
       "  </tbody>\n",
       "</table>\n",
       "</div>"
      ],
      "text/plain": [
       "     yr  Mon  Day  Hr  Min   Sec    Lat    Lon  Height  Energyclass    M\n",
       "0  2015    1   22  15   52  27.9  42.20  75.02      20         11.9  4.4\n",
       "1  2015    3   15  14    1   0.1  42.95  76.93      20         11.8  3.6\n",
       "2  2015    6   19   0   54  41.1  44.75  78.78      10         10.4  2.8\n",
       "3  2015    7    7   7   13   3.0  43.28  77.72      10          9.6  3.4\n",
       "4  2015    9    1   7   32  28.3  44.38  76.13      20          9.8  2.4"
      ]
     },
     "execution_count": 4,
     "metadata": {},
     "output_type": "execute_result"
    }
   ],
   "source": [
    "raw_dataset.head()"
   ]
  },
  {
   "cell_type": "code",
   "execution_count": 5,
   "id": "4de1606e",
   "metadata": {},
   "outputs": [],
   "source": [
    "def str_to_date(year, month, day, hour, minutes, seconds):\n",
    "    date = datetime(int(year), int(month), int(day), int(hour), int(minutes), int(seconds))\n",
    "\n",
    "    return date"
   ]
  },
  {
   "cell_type": "code",
   "execution_count": 6,
   "id": "689e702b",
   "metadata": {},
   "outputs": [
    {
     "data": {
      "text/html": [
       "<div>\n",
       "<style scoped>\n",
       "    .dataframe tbody tr th:only-of-type {\n",
       "        vertical-align: middle;\n",
       "    }\n",
       "\n",
       "    .dataframe tbody tr th {\n",
       "        vertical-align: top;\n",
       "    }\n",
       "\n",
       "    .dataframe thead th {\n",
       "        text-align: right;\n",
       "    }\n",
       "</style>\n",
       "<table border=\"1\" class=\"dataframe\">\n",
       "  <thead>\n",
       "    <tr style=\"text-align: right;\">\n",
       "      <th></th>\n",
       "      <th>Lat</th>\n",
       "      <th>Lon</th>\n",
       "      <th>Height</th>\n",
       "      <th>Energyclass</th>\n",
       "      <th>Magnitude</th>\n",
       "    </tr>\n",
       "  </thead>\n",
       "  <tbody>\n",
       "    <tr>\n",
       "      <th>0</th>\n",
       "      <td>42.20</td>\n",
       "      <td>75.02</td>\n",
       "      <td>20</td>\n",
       "      <td>11.9</td>\n",
       "      <td>4.4</td>\n",
       "    </tr>\n",
       "    <tr>\n",
       "      <th>1</th>\n",
       "      <td>42.95</td>\n",
       "      <td>76.93</td>\n",
       "      <td>20</td>\n",
       "      <td>11.8</td>\n",
       "      <td>3.6</td>\n",
       "    </tr>\n",
       "    <tr>\n",
       "      <th>2</th>\n",
       "      <td>44.75</td>\n",
       "      <td>78.78</td>\n",
       "      <td>10</td>\n",
       "      <td>10.4</td>\n",
       "      <td>2.8</td>\n",
       "    </tr>\n",
       "    <tr>\n",
       "      <th>3</th>\n",
       "      <td>43.28</td>\n",
       "      <td>77.72</td>\n",
       "      <td>10</td>\n",
       "      <td>9.6</td>\n",
       "      <td>3.4</td>\n",
       "    </tr>\n",
       "    <tr>\n",
       "      <th>4</th>\n",
       "      <td>44.38</td>\n",
       "      <td>76.13</td>\n",
       "      <td>20</td>\n",
       "      <td>9.8</td>\n",
       "      <td>2.4</td>\n",
       "    </tr>\n",
       "  </tbody>\n",
       "</table>\n",
       "</div>"
      ],
      "text/plain": [
       "     Lat    Lon  Height  Energyclass  Magnitude\n",
       "0  42.20  75.02      20         11.9        4.4\n",
       "1  42.95  76.93      20         11.8        3.6\n",
       "2  44.75  78.78      10         10.4        2.8\n",
       "3  43.28  77.72      10          9.6        3.4\n",
       "4  44.38  76.13      20          9.8        2.4"
      ]
     },
     "execution_count": 6,
     "metadata": {},
     "output_type": "execute_result"
    }
   ],
   "source": [
    "df = raw_dataset.iloc[:, 6:].copy()\n",
    "df = df.rename(columns={'M': \"Magnitude\"})\n",
    "df.head()"
   ]
  },
  {
   "cell_type": "code",
   "execution_count": 7,
   "id": "cb35354a",
   "metadata": {},
   "outputs": [],
   "source": [
    "df['Time']=raw_dataset.apply(lambda x: str_to_date(x['yr'], x['Mon'], x['Day'], x['Hr'], x['Min'], x['Sec']), axis=1)\n",
    "df['Time'] = df['Time'].apply(lambda x: str(x))"
   ]
  },
  {
   "cell_type": "code",
   "execution_count": 8,
   "id": "aeb7c6de",
   "metadata": {},
   "outputs": [
    {
     "name": "stdout",
     "output_type": "stream",
     "text": [
      "<class 'pandas.core.frame.DataFrame'>\n",
      "RangeIndex: 44 entries, 0 to 43\n",
      "Data columns (total 6 columns):\n",
      " #   Column       Non-Null Count  Dtype  \n",
      "---  ------       --------------  -----  \n",
      " 0   Lat          44 non-null     float64\n",
      " 1   Lon          44 non-null     float64\n",
      " 2   Height       44 non-null     int64  \n",
      " 3   Energyclass  44 non-null     float64\n",
      " 4   Magnitude    44 non-null     float64\n",
      " 5   Time         44 non-null     object \n",
      "dtypes: float64(4), int64(1), object(1)\n",
      "memory usage: 2.2+ KB\n"
     ]
    }
   ],
   "source": [
    "df.info()"
   ]
  },
  {
   "cell_type": "code",
   "execution_count": 9,
   "id": "6d3e8108",
   "metadata": {},
   "outputs": [
    {
     "name": "stdout",
     "output_type": "stream",
     "text": [
      "User Guide: https://docs.kepler.gl/docs/keplergl-jupyter\n"
     ]
    }
   ],
   "source": [
    "map_1 = KeplerGl(height=600)"
   ]
  },
  {
   "cell_type": "code",
   "execution_count": 10,
   "id": "c3442a24",
   "metadata": {},
   "outputs": [],
   "source": [
    "map_1.add_data(data=df, name='Earthquake Visualization')\n",
    "config = {\n",
    "    'version': 'v1',\n",
    "    'config': {\n",
    "        'mapState': {\n",
    "            'latitude': 43.28,\n",
    "            'longitude': 76.92,\n",
    "            'zoom': 10\n",
    "        }\n",
    "    }\n",
    "}\n",
    "map_1.add_data(data=df, name='data_1')\n",
    "map_1.config = config"
   ]
  },
  {
   "cell_type": "code",
   "execution_count": 11,
   "id": "4094ff62",
   "metadata": {},
   "outputs": [
    {
     "name": "stdout",
     "output_type": "stream",
     "text": [
      "Map saved to /Users/Yevgeniy/Desktop/Earthquake Visualization.html!\n"
     ]
    }
   ],
   "source": [
    "path = '/Users/Yevgeniy/Desktop/Earthquake Visualization.html'\n",
    "map_1.save_to_html(file_name=path)"
   ]
  },
  {
   "cell_type": "code",
   "execution_count": null,
   "id": "945067d2",
   "metadata": {},
   "outputs": [],
   "source": []
  }
 ],
 "metadata": {
  "kernelspec": {
   "display_name": "Python 3 (ipykernel)",
   "language": "python",
   "name": "python3"
  },
  "language_info": {
   "codemirror_mode": {
    "name": "ipython",
    "version": 3
   },
   "file_extension": ".py",
   "mimetype": "text/x-python",
   "name": "python",
   "nbconvert_exporter": "python",
   "pygments_lexer": "ipython3",
   "version": "3.9.12"
  }
 },
 "nbformat": 4,
 "nbformat_minor": 5
}
